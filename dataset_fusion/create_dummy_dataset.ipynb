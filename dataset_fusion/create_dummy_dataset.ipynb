{
 "cells": [
  {
   "cell_type": "code",
   "execution_count": 1,
   "id": "36eda243-d8a3-4db9-bf28-ab2964f3ad7d",
   "metadata": {},
   "outputs": [],
   "source": [
    "Lsamples=30000;\n",
    "prob_void=0.15;\n",
    "target_label=['negative','neutro','pain','positive'];\n",
    "output_base_dir='../../BER2024/BER2024-FUSION'\n",
    "dataset_name='dummy'\n",
    "csv_train_filename='train.csv'\n",
    "csv_test_filename='test.csv'"
   ]
  },
  {
   "cell_type": "code",
   "execution_count": 2,
   "id": "abc6cdfb-0bb2-4f06-8f43-ed7e87ff4062",
   "metadata": {},
   "outputs": [],
   "source": [
    "import random \n",
    "\n",
    "def flip_coin(p):\n",
    "    return True if random.random() < p else False"
   ]
  },
  {
   "cell_type": "code",
   "execution_count": 3,
   "id": "9137e4e6-7e40-47b3-8192-485063be6950",
   "metadata": {},
   "outputs": [
    {
     "name": "stdout",
     "output_type": "stream",
     "text": [
      "[0.32764816 0.23658177 0.24997471 0.18579536]\n"
     ]
    }
   ],
   "source": [
    "import numpy as np\n",
    "\n",
    "def create_vector4(N):\n",
    "    if N < 0 or N > 3:\n",
    "        raise ValueError(\"N deve estar entre 0 e 3, inclusive.\")\n",
    "    \n",
    "    # Gera 3 valores aleatórios\n",
    "    random_values = np.random.rand(3)\n",
    "    \n",
    "    # Gera um valor aleatório que é maior que todos os 3 valores gerados\n",
    "    max_value = random_values.max() + np.random.rand()\n",
    "    \n",
    "    # Cria o vetor de 4 elementos com o valor máximo na posição N\n",
    "    vector = np.insert(random_values, N, max_value)\n",
    "    \n",
    "    return vector/np.sum(vector);\n",
    "\n",
    "# Exemplo de uso\n",
    "N = 0\n",
    "vector = create_vector4(N)\n",
    "print(vector)\n"
   ]
  },
  {
   "cell_type": "code",
   "execution_count": 4,
   "id": "7391006d-2303-4d2c-8226-3e7859cd1483",
   "metadata": {},
   "outputs": [],
   "source": [
    "import os\n",
    "\n",
    "output_dir=os.path.join(output_base_dir,dataset_name,'L'+str(Lsamples)+'_p'+str(prob_void))\n",
    "\n",
    "os.makedirs(output_dir,exist_ok = True);"
   ]
  },
  {
   "cell_type": "code",
   "execution_count": 5,
   "id": "2c333dd2-4cd5-4ee8-a366-16c52cbf05f2",
   "metadata": {},
   "outputs": [],
   "source": [
    "\n",
    "import csv\n",
    "import json\n",
    "from tqdm import tqdm\n",
    "\n",
    "def create_dummy_dataset(csv_filename,Lsamples,target_label,drop1_prob=0.0):\n",
    "    Info=dict();\n",
    "    for label in target_label:\n",
    "        Info[label]=0;\n",
    "    \n",
    "    with open(csv_filename, mode='w', newline='') as file:\n",
    "        writer = csv.writer(file)\n",
    "        \n",
    "        # Escreve o cabeçalho (opcional)\n",
    "        header = ['d'+str(n) for n in range(3*len(target_label))]+[ 'label'];\n",
    "        writer.writerow(header)\n",
    "        \n",
    "        for l in tqdm(range(Lsamples)):\n",
    "            \n",
    "            ID=random.randint(0, len(target_label)-1);\n",
    "        \n",
    "            vector1 = create_vector4(ID);\n",
    "            vector2 = create_vector4(ID);\n",
    "            vector3 = create_vector4(ID);\n",
    "\n",
    "            if drop1_prob>0.0:\n",
    "                if flip_coin(drop1_prob):\n",
    "                    id_drop=random.randint(0,2);\n",
    "                    if id_drop==0:\n",
    "                        vector1=np.zeros(4);\n",
    "                    if id_drop==1:\n",
    "                        vector2=np.zeros(4);\n",
    "                    if id_drop==2:\n",
    "                        vector3=np.zeros(4);\n",
    "            \n",
    "            concatenated = np.concatenate((vector1, vector2, vector3))\n",
    "            label=target_label[ID];\n",
    "\n",
    "            Info[label]=Info[label]+1;\n",
    "    \n",
    "            # Converte o vetor em lista e adiciona a etiqueta no final\n",
    "            row = list(concatenated) + [label];\n",
    "            \n",
    "            # Escreve a linha no arquivo CSV\n",
    "            writer.writerow(row)\n",
    "    # Salvar o dicionário como um arquivo JSON\n",
    "    with open(csv_filename+'.json', 'w') as json_file:\n",
    "        json.dump(Info, json_file, indent=4, sort_keys=True)"
   ]
  },
  {
   "cell_type": "code",
   "execution_count": 6,
   "id": "2a8cc8be-842d-4097-a5e5-84d7162a50ec",
   "metadata": {},
   "outputs": [
    {
     "name": "stderr",
     "output_type": "stream",
     "text": [
      "100%|███████████████████████████████████| 30000/30000 [00:03<00:00, 9884.36it/s]\n"
     ]
    }
   ],
   "source": [
    "csv_filename=os.path.join(output_dir,csv_train_filename);\n",
    "create_dummy_dataset(csv_filename,Lsamples,target_label,drop1_prob=prob_void);"
   ]
  },
  {
   "cell_type": "code",
   "execution_count": 7,
   "id": "f09adb41-1369-4ab8-8991-35f84c2244f8",
   "metadata": {},
   "outputs": [
    {
     "name": "stderr",
     "output_type": "stream",
     "text": [
      "100%|███████████████████████████████████| 30000/30000 [00:03<00:00, 9770.83it/s]\n"
     ]
    }
   ],
   "source": [
    "csv_filename=os.path.join(output_dir,csv_test_filename);\n",
    "create_dummy_dataset(csv_filename,Lsamples,target_label,drop1_prob=prob_void);"
   ]
  }
 ],
 "metadata": {
  "kernelspec": {
   "display_name": "Python 3 (ipykernel)",
   "language": "python",
   "name": "python3"
  },
  "language_info": {
   "codemirror_mode": {
    "name": "ipython",
    "version": 3
   },
   "file_extension": ".py",
   "mimetype": "text/x-python",
   "name": "python",
   "nbconvert_exporter": "python",
   "pygments_lexer": "ipython3",
   "version": "3.10.12"
  }
 },
 "nbformat": 4,
 "nbformat_minor": 5
}
